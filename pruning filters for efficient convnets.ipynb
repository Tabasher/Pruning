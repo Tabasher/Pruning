{
 "cells": [
  {
   "cell_type": "code",
   "execution_count": 1,
   "metadata": {},
   "outputs": [
    {
     "name": "stderr",
     "output_type": "stream",
     "text": [
      "Using TensorFlow backend.\n",
      "/home/tabasher/myenv/lib/python3.5/site-packages/tensorflow/python/framework/dtypes.py:523: FutureWarning: Passing (type, 1) or '1type' as a synonym of type is deprecated; in a future version of numpy, it will be understood as (type, (1,)) / '(1,)type'.\n",
      "  _np_qint8 = np.dtype([(\"qint8\", np.int8, 1)])\n",
      "/home/tabasher/myenv/lib/python3.5/site-packages/tensorflow/python/framework/dtypes.py:524: FutureWarning: Passing (type, 1) or '1type' as a synonym of type is deprecated; in a future version of numpy, it will be understood as (type, (1,)) / '(1,)type'.\n",
      "  _np_quint8 = np.dtype([(\"quint8\", np.uint8, 1)])\n",
      "/home/tabasher/myenv/lib/python3.5/site-packages/tensorflow/python/framework/dtypes.py:525: FutureWarning: Passing (type, 1) or '1type' as a synonym of type is deprecated; in a future version of numpy, it will be understood as (type, (1,)) / '(1,)type'.\n",
      "  _np_qint16 = np.dtype([(\"qint16\", np.int16, 1)])\n",
      "/home/tabasher/myenv/lib/python3.5/site-packages/tensorflow/python/framework/dtypes.py:526: FutureWarning: Passing (type, 1) or '1type' as a synonym of type is deprecated; in a future version of numpy, it will be understood as (type, (1,)) / '(1,)type'.\n",
      "  _np_quint16 = np.dtype([(\"quint16\", np.uint16, 1)])\n",
      "/home/tabasher/myenv/lib/python3.5/site-packages/tensorflow/python/framework/dtypes.py:527: FutureWarning: Passing (type, 1) or '1type' as a synonym of type is deprecated; in a future version of numpy, it will be understood as (type, (1,)) / '(1,)type'.\n",
      "  _np_qint32 = np.dtype([(\"qint32\", np.int32, 1)])\n",
      "/home/tabasher/myenv/lib/python3.5/site-packages/tensorflow/python/framework/dtypes.py:532: FutureWarning: Passing (type, 1) or '1type' as a synonym of type is deprecated; in a future version of numpy, it will be understood as (type, (1,)) / '(1,)type'.\n",
      "  np_resource = np.dtype([(\"resource\", np.ubyte, 1)])\n"
     ]
    }
   ],
   "source": [
    "from imports import*\n",
    "from model_config import*\n",
    "from utility_new import*\n",
    "from utility import*\n",
    "import tensorflow as tf"
   ]
  },
  {
   "cell_type": "markdown",
   "metadata": {},
   "source": [
    "# Trainer class to train VGG16 model "
   ]
  },
  {
   "cell_type": "code",
   "execution_count": null,
   "metadata": {},
   "outputs": [],
   "source": [
    "# -*- coding: utf-8 -*-\n",
    "\"\"\"\n",
    "Created on Thu Mar 19 15:51:28 2020\n",
    "\n",
    "@author: IBM\n",
    "\"\"\"\n",
    "\n",
    "from utility import config_list, update_model, update_conifg\n",
    "import numpy as np\n",
    "from keras.datasets import cifar10\n",
    "import keras\n",
    "from keras.preprocessing.image import ImageDataGenerator\n",
    "\n",
    "from keras import optimizers\n",
    "import numpy as np\n",
    "from keras.layers.core import Lambda\n",
    "from keras import backend as K\n",
    "batch_size = 128\n",
    "maxepoches = 100\n",
    "learning_rate = 0.0001 # 0.0001\n",
    "lr_decay = 1e-6\n",
    "lr_drop = 20\n",
    "\n",
    "class trainer:\n",
    "    def __init__(self,model_new,saving_best_acc_name,final_model_save,train=True):\n",
    "        self.num_classes = 10\n",
    "        self.weight_decay = 0.0005\n",
    "        self.x_shape = [32,32,3]\n",
    "        \n",
    "#         filters=[59, 53, 119, 128, 227, 256, 256, 512, 314, 402, 418, 385, 512]\n",
    "\n",
    "        #self.model = self.build_model()\n",
    "        if train:\n",
    "            # config= config_list()\n",
    "            # config=update_conifg(filters=filters_cfg)\n",
    "            # self.model=update_model(config)\n",
    "            # self.model.load_weights(current_model_name)\n",
    "            model_new = self.train(model_new,saving_best_acc_name,final_model_save)\n",
    "        else:\n",
    "            self.model.load_weights('cifar10vgg.h5')\n",
    "\n",
    "\n",
    "    def normalize(self,X_train,X_test):\n",
    "        #this function normalize inputs for zero mean and unit variance\n",
    "        # it is used when training a model.\n",
    "        # Input: training set and test set\n",
    "        # Output: normalized training set and test set according to the trianing set statistics.\n",
    "        mean = np.mean(X_train,axis=(0,1,2,3))\n",
    "        std = np.std(X_train, axis=(0, 1, 2, 3))\n",
    "        X_train = (X_train-mean)/(std+1e-7)\n",
    "        X_test = (X_test-mean)/(std+1e-7)\n",
    "        return X_train, X_test\n",
    "\n",
    "    def normalize_production(self,x):\n",
    "        #this function is used to normalize instances in production according to saved training set statistics\n",
    "        # Input: X - a training set\n",
    "        # Output X - a normalized training set according to normalization constants.\n",
    "\n",
    "        #these values produced during first training and are general for the standard cifar10 training set normalization\n",
    "        mean = 120.707\n",
    "        std = 64.15\n",
    "        return (x-mean)/(std+1e-7)\n",
    "\n",
    "    def predict(self,x,normalize=True,batch_size=50):\n",
    "        if normalize:\n",
    "            x = self.normalize_production(x)\n",
    "        return self.model.predict(x,batch_size)\n",
    "\n",
    "    def train(self,model,saving_best_acc_name,final_model_save):\n",
    "        print ('Total Params = ',model.count_params())\n",
    "\n",
    "        #training parameters\n",
    "        \n",
    "        # The data, shuffled and split between train and test sets:\n",
    "        (x_train, y_train), (x_test, y_test) = cifar10.load_data()\n",
    "        x_train = x_train.astype('float32')\n",
    "        x_test = x_test.astype('float32')\n",
    "        x_train, x_test = self.normalize(x_train, x_test)\n",
    "        y_train = np.reshape(y_train,(len(y_train),))\n",
    "        y_test = np.reshape(y_test,(len(y_test),))\n",
    "\n",
    "        y_train = keras.utils.to_categorical(y_train, self.num_classes)\n",
    "        y_test = keras.utils.to_categorical(y_test, self.num_classes)\n",
    "\n",
    "        def lr_scheduler(epoch):\n",
    "            return learning_rate * (0.5 ** (epoch // lr_drop))\n",
    "        reduce_lr = keras.callbacks.LearningRateScheduler(lr_scheduler)\n",
    "        \n",
    "        checkpoint=keras.callbacks.ModelCheckpoint(saving_best_acc_name,\n",
    "                                             monitor='val_acc', verbose=1,\n",
    "                                              save_best_only=True,\n",
    "                                             mode='auto')\n",
    "\n",
    "        #data augmentation\n",
    "        datagen = ImageDataGenerator(\n",
    "            featurewise_center=False,  # set input mean to 0 over the dataset\n",
    "            samplewise_center=False,  # set each sample mean to 0\n",
    "            featurewise_std_normalization=False,  # divide inputs by std of the dataset\n",
    "            samplewise_std_normalization=False,  # divide each input by its std\n",
    "            zca_whitening=False,  # apply ZCA whitening\n",
    "            rotation_range=15,  # randomly rotate images in the range (degrees, 0 to 180)\n",
    "            width_shift_range=0.1,  # randomly shift images horizontally (fraction of total width)\n",
    "            height_shift_range=0.1,  # randomly shift images vertically (fraction of total height)\n",
    "            horizontal_flip=True,  # randomly flip images\n",
    "            vertical_flip=False)  # randomly flip images\n",
    "        # (std, mean, and principal components if ZCA whitening is applied).\n",
    "        datagen.fit(x_train)\n",
    "\n",
    "\n",
    "\n",
    "        #optimization details\n",
    "        sgd = optimizers.SGD(lr=learning_rate, \n",
    "                             momentum=0.9, nesterov=True)\n",
    "        model.compile(loss='categorical_crossentropy',\n",
    "                      optimizer=sgd,metrics=['accuracy'])\n",
    "\n",
    "\n",
    "        # training process in a for loop with learning rate drop every 25 epoches.\n",
    "\n",
    "        historytemp = model.fit_generator(datagen.flow(x_train, y_train,\n",
    "                                         batch_size=batch_size),\n",
    "                            steps_per_epoch=x_train.shape[0] // batch_size,\n",
    "                            epochs=maxepoches,\n",
    "                            validation_data=(x_test, y_test),callbacks=[checkpoint],verbose=1)\n",
    "        model.save_weights(final_model_save)\n",
    "        return model"
   ]
  },
  {
   "cell_type": "markdown",
   "metadata": {},
   "source": [
    "# Loading CIFAR10 dataset"
   ]
  },
  {
   "cell_type": "code",
   "execution_count": 2,
   "metadata": {},
   "outputs": [],
   "source": [
    "# %%  Loading Data \n",
    "\n",
    "(x_train, y_train), (x_test, y_test) = cifar10.load_data()\n",
    "y_train = np.reshape(y_train,(len(y_train),))\n",
    "y_test = np.reshape(y_test,(len(y_test),))\n",
    "x_train = x_train.astype('float32')\n",
    "x_test = x_test.astype('float32')\n",
    "\n",
    "y_train = keras.utils.to_categorical(y_train, 10)\n",
    "y_test = keras.utils.to_categorical(y_test, 10)\n",
    "\n",
    "x_test = normalize_production(x_test)\n",
    "xx_train = normalize_production(x_train)\n"
   ]
  },
  {
   "cell_type": "code",
   "execution_count": 3,
   "metadata": {},
   "outputs": [],
   "source": [
    "x_test=x_test[0:100]\n",
    "y_test=y_test[0:100]"
   ]
  },
  {
   "cell_type": "code",
   "execution_count": 4,
   "metadata": {},
   "outputs": [],
   "source": [
    "total_conv_filters=4224  # total conv filters\n",
    "USE_CUDA=False\n",
    "csv_folder_name = 'prune_stats'\n",
    "if not os.path.isdir(csv_folder_name): \n",
    "    print(\"Folder is not present , making a folder\")\n",
    "    os.mkdir(csv_folder_name)\n",
    "csv_file_name = 'pruning_stats.csv'\n",
    "csv_file_address = os.path.join(csv_folder_name,csv_file_name)\n",
    "\n",
    "if not os.path.isfile(csv_file_address):\n",
    "    print (\"File is not present\")\n",
    "    print (\"Address = \", csv_file_address)\n",
    "    Heading = ['params Pruned (%)','Accuracy without retrain(%)', 'Filters Left', 'Params Left', 'Config', \n",
    "              'Filters removed in each iteration','Layers in each itration',\n",
    "              'Accuracy in each iteration']\n",
    "    with open (csv_file_address,'w') as stats_file: \n",
    "        writer = csv.writer(stats_file)\n",
    "        writer.writerow(Heading)"
   ]
  },
  {
   "cell_type": "code",
   "execution_count": 5,
   "metadata": {},
   "outputs": [],
   "source": [
    "x_list=[0.005*i*10 for i in range(1,5)]\n",
    "delta_A = 1    \n",
    "previous_pruning_ratio=0\n",
    "pruning_ratio = 15\n",
    "previous_model_name='prune_models/model_prune_'+str(previous_pruning_ratio)+'.h5'\n",
    "current_model_name='prune_models/model_prune_VGG16_GLB64'+str(pruning_ratio)+'.h5'"
   ]
  },
  {
   "cell_type": "code",
   "execution_count": 6,
   "metadata": {},
   "outputs": [
    {
     "name": "stdout",
     "output_type": "stream",
     "text": [
      "100/100 [==============================] - 1s 6ms/step\n",
      "Accuracy of Baseline =  96.0\n"
     ]
    }
   ],
   "source": [
    "with tf.device(\"cpu:0\"):\n",
    "    after_retrain = False \n",
    "    if after_retrain:\n",
    "        config = config_list()\n",
    "        saving_best_acc_name='train_models/best_acc_model_60.03.h5'\n",
    "        config = update_conifg(filters=conv_filters_left)\n",
    "        model = update_model(config)\n",
    "        model.load_weights(saving_best_acc_name)\n",
    "    else:\n",
    "        config = config_list()\n",
    "        filters_n=[64, 64, 128, 128, 256, 256, 256, 512, 512, 512, 512, 512, 512]\n",
    "        config = update_conifg(filters=filters_n)\n",
    "        model = update_model(config)\n",
    "        model.load_weights(previous_model_name)\n",
    "    #     model.load_weights(previous_model_name)\n",
    "\n",
    "    prev_acc = accuracy(x_test,y_test,model)\n",
    "    print (\"Accuracy of Baseline = \", prev_acc)"
   ]
  },
  {
   "cell_type": "code",
   "execution_count": null,
   "metadata": {},
   "outputs": [],
   "source": [
    "# ===================================================================\n",
    "total_conv_filters=4224\n",
    "conv_indices=get_conv_layer_indices(model) # conv layer indices\n",
    "[conv_filters_orig,conv_filters_left]=get_model_filters(model,conv_indices)\n",
    "total_params = get_conv_filters_params(filters_list=conv_filters_orig)\n",
    "params_pruned = int(round((pruning_ratio/100)*total_params))\n",
    "total_params_required = total_params-params_pruned\n",
    "print(\"Total number of parameters need to be removed = \",params_pruned)\n",
    "\n",
    "\n",
    "iteration=1\n",
    "layer_selected_each_step=[]\n",
    "filters_removed_each_step=[]\n",
    "accuracy_each_step=[]\n",
    "start_time = time.time()\n"
   ]
  },
  {
   "cell_type": "markdown",
   "metadata": {},
   "source": [
    "# Step 1: \n",
    "###  Plot senstivilty of each layer towards pruning"
   ]
  },
  {
   "cell_type": "code",
   "execution_count": 8,
   "metadata": {},
   "outputs": [],
   "source": [
    "# sentivity analysis "
   ]
  },
  {
   "cell_type": "code",
   "execution_count": 12,
   "metadata": {},
   "outputs": [],
   "source": [
    "model_prev = update_model(config)\n",
    "model_prev.set_weights(model.get_weights()) # saving weights of previous iteration \n",
    "scores=saliency_measure_l2_norm(model,conv_indices) # importance of each 3D filter \n",
    "# acc_all_layers=senstivity_analysis(model,model_prev,conv_indices,scores,x_test,y_test)"
   ]
  },
  {
   "cell_type": "code",
   "execution_count": 25,
   "metadata": {},
   "outputs": [
    {
     "data": {
      "image/png": "[encoded data removed]",
      "text/plain": [
       "<Figure size 432x288 with 1 Axes>"
      ]
     },
     "metadata": {
      "needs_background": "light"
     },
     "output_type": "display_data"
    }
   ],
   "source": [
    "ratios=[i*0.1 for i in range(0,11)]\n",
    "plot_sensitivity_analysis(acc_all_layers,ratios)"
   ]
  },
  {
   "cell_type": "markdown",
   "metadata": {},
   "source": [
    "# Step 2:\n",
    "### Estimate pruning ratio for each layer by seeing senstivity analysis "
   ]
  },
  {
   "cell_type": "code",
   "execution_count": 9,
   "metadata": {},
   "outputs": [],
   "source": [
    "prune_ratios=[0.5 for i in range(len(conv_filters_orig))]"
   ]
  },
  {
   "cell_type": "markdown",
   "metadata": {},
   "source": [
    "# Step 3:\n",
    "### Remove filters from each layer in single shot according to pre-defined pruning ratio of each layer "
   ]
  },
  {
   "cell_type": "code",
   "execution_count": 10,
   "metadata": {},
   "outputs": [],
   "source": [
    "# remove filters for pre-defined ratio (each layer)"
   ]
  },
  {
   "cell_type": "code",
   "execution_count": 13,
   "metadata": {},
   "outputs": [],
   "source": [
    "last=False\n",
    "for i,r in enumerate(prune_ratios):\n",
    "    layer_index = conv_indices[i][1]\n",
    "    if (layer_index==conv_indices[-1][1]):\n",
    "        next_layer_index=layer_index+5\n",
    "        last=True\n",
    "    else:\n",
    "        next_layer_index=conv_indices[i+1][1]\n",
    "    score=scores[i]\n",
    "    model=modify_model_weights(model,layer_index,next_layer_index,r,score,last)\n",
    "[model_new,model_temp] = make_pruned_model(model,conv_indices)\n",
    "\n"
   ]
  },
  {
   "cell_type": "markdown",
   "metadata": {},
   "source": [
    "# Step 4:\n",
    "### Calculate the pruning ratio and update model configuration file"
   ]
  },
  {
   "cell_type": "code",
   "execution_count": 24,
   "metadata": {},
   "outputs": [
    {
     "name": "stdout",
     "output_type": "stream",
     "text": [
      "pruning ratio =  74.48661186562498\n"
     ]
    }
   ],
   "source": [
    "pr=100.0*((model.count_params()-model_new.count_params())/model.count_params())\n",
    "print (\"pruning ratio = \",pr)\n",
    "[filters_new,_]=get_model_filters(model_new,conv_indices)\n",
    "config=update_conifg(filters_new)"
   ]
  },
  {
   "cell_type": "markdown",
   "metadata": {},
   "source": [
    "# Step 5: \n",
    "### Retrain the pruned model to regain the lost accuracy "
   ]
  },
  {
   "cell_type": "code",
   "execution_count": 35,
   "metadata": {},
   "outputs": [],
   "source": [
    "saving_best_acc_name = 'best_acc_prune_'+ str('%.2f'%pr)+'.h5'\n",
    "final_model_save = 'final_acc_prune_'+str('%.2f'%pr)+'.h5'\n",
    "model = trainer(model_new,saving_best_acc_name,final_model_save)"
   ]
  },
  {
   "cell_type": "code",
   "execution_count": 36,
   "metadata": {},
   "outputs": [
    {
     "name": "stdout",
     "output_type": "stream",
     "text": [
      "best_acc_prune_74.49.h5\n",
      "final_acc_prune_74.49.h5\n"
     ]
    }
   ],
   "source": [
    "# Repeat step 1 to 5 to further pruningl "
   ]
  },
  {
   "cell_type": "code",
   "execution_count": null,
   "metadata": {},
   "outputs": [],
   "source": []
  }
 ],
 "metadata": {
  "kernelspec": {
   "display_name": "Python 3",
   "language": "python",
   "name": "python3"
  },
  "language_info": {
   "codemirror_mode": {
    "name": "ipython",
    "version": 3
   },
   "file_extension": ".py",
   "mimetype": "text/x-python",
   "name": "python",
   "nbconvert_exporter": "python",
   "pygments_lexer": "ipython3",
   "version": "3.5.2"
  }
 },
 "nbformat": 4,
 "nbformat_minor": 2
}
